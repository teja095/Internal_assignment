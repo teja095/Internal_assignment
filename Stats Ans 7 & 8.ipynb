{
 "cells": [
  {
   "cell_type": "markdown",
   "metadata": {},
   "source": [
    "# Stats Ans 7"
   ]
  },
  {
   "cell_type": "markdown",
   "metadata": {},
   "source": [
    "i) variance of y = 1\n",
    "\n",
    "using the formula we get y = 0.5x+ 2.5 \n",
    "\n",
    "var of y = var of x * sqr(slope of y on x) here x = 4\n",
    "\n",
    "ii) to calculate co-efficient if determentation of c and y\n",
    "\n",
    " we need the regression line which is missing in the equation\n",
    " \n",
    "\n",
    "iii) we need the coefficient of determination (R²) between X and Y. to calculate the standard error"
   ]
  },
  {
   "cell_type": "markdown",
   "metadata": {},
   "source": [
    "# Stats Ans 8"
   ]
  },
  {
   "cell_type": "markdown",
   "metadata": {},
   "source": [
    "by taking the result it has found that postive value is least with zero, assuming 5% significance level and n= 10 with the help\n",
    "\n",
    "of table value is 8. and test statitical is 0 and critical value is 8 we can say there is an signifcant changes in the data."
   ]
  },
  {
   "cell_type": "code",
   "execution_count": null,
   "metadata": {},
   "outputs": [],
   "source": []
  }
 ],
 "metadata": {
  "kernelspec": {
   "display_name": "Python 3",
   "language": "python",
   "name": "python3"
  },
  "language_info": {
   "codemirror_mode": {
    "name": "ipython",
    "version": 3
   },
   "file_extension": ".py",
   "mimetype": "text/x-python",
   "name": "python",
   "nbconvert_exporter": "python",
   "pygments_lexer": "ipython3",
   "version": "3.8.3"
  }
 },
 "nbformat": 4,
 "nbformat_minor": 4
}
