{
 "cells": [
  {
   "cell_type": "code",
   "execution_count": 1,
   "metadata": {},
   "outputs": [
    {
     "name": "stdout",
     "output_type": "stream",
     "text": [
      "YES\n",
      "NO\n"
     ]
    }
   ],
   "source": [
    "def is_valid_string(s):\n",
    "    # Count the frequency of each character\n",
    "    char_count = {}\n",
    "    for char in s:\n",
    "        char_count[char] = char_count.get(char, 0) + 1\n",
    "\n",
    "    # Check if all characters have the same count\n",
    "    counts = list(char_count.values())\n",
    "    unique_counts = set(counts)\n",
    "\n",
    "    if len(unique_counts) == 1:\n",
    "        return \"YES\"  # All characters have the same count\n",
    "\n",
    "    # Check if removing one character makes it valid\n",
    "    if len(unique_counts) == 2:\n",
    "        max_count = max(counts)\n",
    "        min_count = min(counts)\n",
    "        if counts.count(max_count) == 1 and max_count - min_count == 1:\n",
    "            return \"YES\"  # Removing one character makes it valid\n",
    "\n",
    "    return \"NO\"  # String is not valid\n",
    "\n",
    "# Test cases\n",
    "print(is_valid_string(\"abcde\"))  \n",
    "print(is_valid_string(\"aabbc\"))  "
   ]
  },
  {
   "cell_type": "code",
   "execution_count": null,
   "metadata": {},
   "outputs": [],
   "source": []
  }
 ],
 "metadata": {
  "kernelspec": {
   "display_name": "Python 3",
   "language": "python",
   "name": "python3"
  },
  "language_info": {
   "codemirror_mode": {
    "name": "ipython",
    "version": 3
   },
   "file_extension": ".py",
   "mimetype": "text/x-python",
   "name": "python",
   "nbconvert_exporter": "python",
   "pygments_lexer": "ipython3",
   "version": "3.8.3"
  }
 },
 "nbformat": 4,
 "nbformat_minor": 4
}
