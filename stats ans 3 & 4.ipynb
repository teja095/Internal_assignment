{
 "cells": [
  {
   "cell_type": "markdown",
   "metadata": {},
   "source": [
    "# stats ans 3)\n",
    "\n",
    "    \n",
    "    "
   ]
  },
  {
   "cell_type": "markdown",
   "metadata": {},
   "source": [
    "i)For blood pressure before\n",
    "  range  = 28(148-170)\n",
    "  variance = 77.62\n",
    "  standard devaition = 8.81\n",
    "\n",
    "for blood pressure after\n",
    "    range = 23(140-117)\n",
    "    variance = 42.99\n",
    "    standard deviation = 6.55\n",
    "    \n",
    " interpretation:\n",
    " \n",
    " - Range: The range indicates the difference between the highest and lowest values in the dataset.\n",
    " \n",
    " - Variance: Variance measures the spread of data points around the mean. A higher variance indicates greater dispersion in the dataset\n",
    " \n",
    " - Standard Deviation: The standard deviation is the square root of the variance and provides a measure of the dispersion of data points. It quantifies the average amount by which the values deviate from the mean. The 'Blood Pressure Before' values have a higher standard deviation (8.81) compared to the 'Blood Pressure After' values (6.55), indicating more variability and dispersion in the 'Blood Pressure Before' readings.\n",
    " \n",
    " \n",
    " ii) For 'Blood Pressure Before':\n",
    "\n",
    "Mean(Blood Pressure Before) = 133.5 (rounded to one decimal place)\n",
    "5% Confidence Interval for Blood Pressure Before: (128.1, 138.9) (rounded to one decimal place)\n",
    "For 'Blood Pressure After':\n",
    "\n",
    "Mean(Blood Pressure After) = 126.0 (rounded to one decimal place)\n",
    "5% Confidence Interval for Blood Pressure After: (120.9, 131.1) (rounded to one decimal place)\n",
    "These values represent the mean and 5% confidence interval for each dataset.\n",
    "\n",
    "iii) MAD before = 5.7118\n",
    "     MAD after = 5.9\n",
    "     \n",
    "     \n",
    "iv) pearson coefficient cal is 0.997 which has strong postive relationship between them\n",
    "\n",
    " \n",
    " \n",
    "    "
   ]
  },
  {
   "cell_type": "markdown",
   "metadata": {},
   "source": [
    "# Stats Ans 4"
   ]
  },
  {
   "cell_type": "markdown",
   "metadata": {},
   "source": [
    "here to get an perfect square out of 20 it could be either 1,4,9,16\n",
    "so the formula here is:\n",
    "no of favourable outcomes/total no of observation\n",
    "= 4/20 =1/5~ 20%\n"
   ]
  }
 ],
 "metadata": {
  "kernelspec": {
   "display_name": "Python 3",
   "language": "python",
   "name": "python3"
  },
  "language_info": {
   "codemirror_mode": {
    "name": "ipython",
    "version": 3
   },
   "file_extension": ".py",
   "mimetype": "text/x-python",
   "name": "python",
   "nbconvert_exporter": "python",
   "pygments_lexer": "ipython3",
   "version": "3.8.3"
  }
 },
 "nbformat": 4,
 "nbformat_minor": 4
}
