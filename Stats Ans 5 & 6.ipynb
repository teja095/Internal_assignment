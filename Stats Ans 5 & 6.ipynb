{
 "cells": [
  {
   "cell_type": "markdown",
   "metadata": {},
   "source": [
    "# Stats Ans 5"
   ]
  },
  {
   "cell_type": "markdown",
   "metadata": {},
   "source": [
    "basically to find the taxi belong to company A if it is late then\n",
    "we need to use bayes theorem here\n",
    "a- company A taxi\n",
    "b- company B taxi\n",
    "l - late \n",
    "\n",
    "using bayes theorem \n",
    "p(a|l) = p(l|a)*p(a)/p(l)---(1)\n",
    "\n",
    "so given in question a--95% = 1-0.95 = 0.05\n",
    "it has 89% taxis = 0.8\n",
    "\n",
    "so to calc p(l) we need company b which has 90% succes 1-0.9 = 0.10\n",
    "it has 20% taxis = 0.2\n",
    "\n",
    "p(l) =p(l/a)*p(a) + p(l/b)*p(b)\n",
    "     = 0.05*0.8 + 0.10*0.2\n",
    "    0.06\n",
    "putting in(i)\n",
    "we get 66.67%"
   ]
  },
  {
   "cell_type": "markdown",
   "metadata": {},
   "source": [
    "# Stats Ans 6"
   ]
  },
  {
   "cell_type": "markdown",
   "metadata": {},
   "source": [
    "yes it follows an normal distribution i have taken major help of google since i have no idea about the test"
   ]
  }
 ],
 "metadata": {
  "kernelspec": {
   "display_name": "Python 3",
   "language": "python",
   "name": "python3"
  },
  "language_info": {
   "codemirror_mode": {
    "name": "ipython",
    "version": 3
   },
   "file_extension": ".py",
   "mimetype": "text/x-python",
   "name": "python",
   "nbconvert_exporter": "python",
   "pygments_lexer": "ipython3",
   "version": "3.8.3"
  }
 },
 "nbformat": 4,
 "nbformat_minor": 4
}
