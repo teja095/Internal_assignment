{
 "cells": [
  {
   "cell_type": "markdown",
   "metadata": {},
   "source": [
    "# Stats Ans 9"
   ]
  },
  {
   "cell_type": "markdown",
   "metadata": {},
   "source": [
    "with the help of anova test, we come to conclusion that we fail to rejec the null hypothesis since we cannot find the highest \n",
    "\n",
    "score of the individual student.\n"
   ]
  },
  {
   "cell_type": "markdown",
   "metadata": {},
   "source": [
    "# Stats Ans 10"
   ]
  },
  {
   "cell_type": "markdown",
   "metadata": {},
   "source": [
    "a) using binomail distribution formula for all\n",
    "n = 100\n",
    "p =0.05\n",
    "k =20 \n",
    "\n",
    "there is 11.4% exactly 20 bulbs are defective in batch\n",
    "\n",
    "b) it is exaclty 99.45% bulbs are aleast decfective in 10 bulbs\n",
    "\n",
    "c) The calculated probability that\n",
    "\n",
    "at most 15 bulbs are defective in the batch of 500 light bulbs is approximately 0.9872 or 98.72%.\n",
    "\n",
    "\n",
    "d) on average, we would expect approximately 25 defective bulbs in a batch of 500.\n",
    "\n"
   ]
  },
  {
   "cell_type": "code",
   "execution_count": null,
   "metadata": {},
   "outputs": [],
   "source": []
  }
 ],
 "metadata": {
  "kernelspec": {
   "display_name": "Python 3",
   "language": "python",
   "name": "python3"
  },
  "language_info": {
   "codemirror_mode": {
    "name": "ipython",
    "version": 3
   },
   "file_extension": ".py",
   "mimetype": "text/x-python",
   "name": "python",
   "nbconvert_exporter": "python",
   "pygments_lexer": "ipython3",
   "version": "3.8.3"
  }
 },
 "nbformat": 4,
 "nbformat_minor": 4
}
