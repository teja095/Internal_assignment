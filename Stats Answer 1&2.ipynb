{
 "cells": [
  {
   "cell_type": "markdown",
   "metadata": {},
   "source": [
    "stats ans 1) correlation cofficient tells about the linear relationship between two variables in a correlation\n",
    "analysis, such that 0.7 is good enough to such that there is health relationship between the SAT scores and college GPA."
   ]
  },
  {
   "cell_type": "markdown",
   "metadata": {},
   "source": [
    "stats ans 2:-\n",
    "\n",
    "i) using z-score we can define the percentage% \n",
    "\n",
    "z-score = x-u/σ\n",
    "\n",
    "z(lower) = 160-170/10 = -1\n",
    "z(upper) = 180-170/10 = 1\n",
    "\n",
    "if we look into the z-table;\n",
    "z(-1) = 0.1587\n",
    "z(1) = 0.843\n",
    "\n",
    "0.843-0.1587 = 0.68~ 68%\n",
    "\n",
    "68% have heights between 160 and 170 cm\n",
    "\n",
    "ii) here we need to calculate the standard error  \n",
    "\n",
    "Standard Error = Population Standard Deviation / sqrt(sample size)\n",
    "\n",
    "Standard Error = 10 / sqrt(100) = 10 / 10 = 1\n",
    "\n",
    "z = (sample mean - population mean) / standard error\n",
    "\n",
    "z = (175 - 170) / 1 = 5\n",
    "\n",
    "with z-table it has value of 0.997 \n",
    "\n",
    "0.9997 approx is 99,77%\n",
    "\n",
    "iii) z-score wrt 185cm\n",
    "\n",
    "z-score = 185-170/10 =15/10 = 1.5\n",
    "\n",
    "iv) here to know 5% dataset we need to calculate the z-score at 5 which is -1.645\n",
    "using z-score formula\n",
    "\n",
    "-1.645 = x-170/10\n",
    "\n",
    "= 153.45\n",
    "\n",
    "which falls under 5%\n",
    "\n",
    "\n",
    "v)CV = (Standard Deviation / Mean) * 100\n",
    "\n",
    "cv = 10/170*100 = 5.88\n",
    "\n",
    "vi) dataset is normally distributed so the skewness will be zero here skeweness of zero indicates that dataset is symmetric"
   ]
  },
  {
   "cell_type": "code",
   "execution_count": null,
   "metadata": {},
   "outputs": [],
   "source": []
  }
 ],
 "metadata": {
  "kernelspec": {
   "display_name": "Python 3",
   "language": "python",
   "name": "python3"
  },
  "language_info": {
   "codemirror_mode": {
    "name": "ipython",
    "version": 3
   },
   "file_extension": ".py",
   "mimetype": "text/x-python",
   "name": "python",
   "nbconvert_exporter": "python",
   "pygments_lexer": "ipython3",
   "version": "3.8.3"
  }
 },
 "nbformat": 4,
 "nbformat_minor": 4
}
